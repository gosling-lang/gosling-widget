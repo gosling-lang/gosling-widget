{
 "cells": [
  {
   "cell_type": "code",
   "execution_count": null,
   "id": "b9c82296",
   "metadata": {},
   "outputs": [],
   "source": [
    "import os\n",
    "import sys\n",
    "import json\n",
    "import urllib.request as urllib\n",
    "\n",
    "# Install if in Google colab notebook\n",
    "if 'google.colab' in sys.modules:\n",
    "    os.system('python -m pip install --upgrade gosling-widget')\n",
    "\n",
    "from gosling_widget import GoslingWidget\n",
    "\n",
    "url = 'https://gist.githubusercontent.com/sehilyi/54eaeecd2f07203a707e1516b1cf8e60/raw/d7728224b475a87604f97ba5522e1501edc2565a/gosling.js'\n",
    "with urllib.urlopen(urllib.Request(url)) as response:\n",
    "    raw = response.read()\n",
    "    conf = json.loads(raw)\n",
    "    conf[\"views\"][0][\"id\"] = \"view-1\"\n",
    "\n",
    "w = GoslingWidget(conf)\n",
    "w"
   ]
  },
  {
   "cell_type": "code",
   "execution_count": null,
   "id": "861124b5",
   "metadata": {},
   "outputs": [],
   "source": [
    "import ipywidgets as widgets\n",
    "\n",
    "dropdown = widgets.Dropdown(\n",
    "    options=[f\"chr{x}\" for x in list(range(1, 23)) + [\"X\", \"Y\"]],\n",
    "    value='chr1',\n",
    "    description='chrom:',\n",
    "    disabled=False,\n",
    ")\n",
    "\n",
    "def handle_change(change):\n",
    "    new = change.get(\"new\")\n",
    "    if new:\n",
    "        w.zoom_to(\"view-1\", new)\n",
    "\n",
    "dropdown.observe(handle_change)\n",
    "\n",
    "dropdown"
   ]
  },
  {
   "cell_type": "code",
   "execution_count": null,
   "id": "0e53d5f1",
   "metadata": {},
   "outputs": [],
   "source": []
  }
 ],
 "metadata": {
  "kernelspec": {
   "display_name": "Python 3 (ipykernel)",
   "language": "python",
   "name": "python3"
  },
  "language_info": {
   "codemirror_mode": {
    "name": "ipython",
    "version": 3
   },
   "file_extension": ".py",
   "mimetype": "text/x-python",
   "name": "python",
   "nbconvert_exporter": "python",
   "pygments_lexer": "ipython3",
   "version": "3.8.13"
  }
 },
 "nbformat": 4,
 "nbformat_minor": 5
}
